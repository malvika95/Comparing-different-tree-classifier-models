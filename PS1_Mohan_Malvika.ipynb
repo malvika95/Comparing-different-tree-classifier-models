{
 "cells": [
  {
   "cell_type": "markdown",
   "metadata": {},
   "source": [
    " # Problem Set 1: Trees IMT 575: Scaling, Applications, and Ethics\n"
   ]
  },
  {
   "cell_type": "markdown",
   "metadata": {},
   "source": [
    "## Part 1: Creating helper functions\n"
   ]
  },
  {
   "cell_type": "markdown",
   "metadata": {},
   "source": [
    "**1. Create a helper function to calculate Gini impurity called “calcGini”. This function should take in two values which represent a count of each class (we can assume only two classes for this problem set) and output the Gini impurity.**\n"
   ]
  },
  {
   "cell_type": "code",
   "execution_count": 1,
   "metadata": {},
   "outputs": [],
   "source": [
    "import numpy as np\n",
    "import pandas as pd\n",
    "import math\n",
    "from matplotlib import pyplot as plt\n",
    "from sklearn.metrics import accuracy_score \n",
    "from sklearn.metrics import confusion_matrix \n",
    "from sklearn import tree\n",
    "from sklearn.metrics import classification_report\n",
    "from sklearn.tree import DecisionTreeClassifier\n",
    "from collections import Counter\n",
    "from sklearn.ensemble import BaggingClassifier\n",
    "from sklearn.ensemble import RandomForestClassifier"
   ]
  },
  {
   "cell_type": "code",
   "execution_count": 2,
   "metadata": {},
   "outputs": [],
   "source": [
    "def calcGini(c1, c2):\n",
    "    if c1 == 0 and c2 ==0:\n",
    "        return 0\n",
    "    p1 = c1/(c1+c2)\n",
    "    p2 = c2/(c1+c2)\n",
    "    return 1-(np.square(p1) + np.square(p2))\n"
   ]
  },
  {
   "cell_type": "markdown",
   "metadata": {},
   "source": [
    "**2. Create a helper function to calculate Gini impurity called “calcEntropy”. This function should take in two values which represent a count of each class (we can assume only two classes for this problem set) and output the entropy. (Note: be sure the function appropriately accounts for zero values)**"
   ]
  },
  {
   "cell_type": "code",
   "execution_count": 3,
   "metadata": {},
   "outputs": [],
   "source": [
    "def calcEntropy(c1,c2) :\n",
    "    if c1 is None or c2 is None:\n",
    "        return 0\n",
    "    if(c1==0 or c2==0):\n",
    "        return 0\n",
    "    p1 = c1/(c1+c2)\n",
    "    p2 = c2/(c1+c2)\n",
    "    return - p1*np.log2(p1) - (p2)*np.log2(p2) "
   ]
  },
  {
   "cell_type": "markdown",
   "metadata": {},
   "source": [
    "**3. Create a helper function to calculate weighted sums called “weightedSum”. This function should take in two lists - one of values and one of weights/counts - and should output the weighted sum of the values as weighted by weights/counts**"
   ]
  },
  {
   "cell_type": "code",
   "execution_count": 4,
   "metadata": {},
   "outputs": [],
   "source": [
    "def weightedSum(value:list, weightcounts :list):\n",
    "    return np.sum(np.multiply(value,weightcounts))\n",
    "\n",
    "    "
   ]
  },
  {
   "cell_type": "markdown",
   "metadata": {},
   "source": [
    "**4. Verify that your functions are working as expected. Use the same dataset/calculations from lecture and calculate the Gini impurity and entropy for each column. The data can be found in the toyData.csv ﬁle.**"
   ]
  },
  {
   "cell_type": "markdown",
   "metadata": {},
   "source": [
    "Answer : Imported the dataset and verified the entropy and gini index values I got for each variable.\n",
    "From running the code against my output variable, I got my gini index value for the predictor variables A,B,C as 0.27, 0.47 and 0.34 respectively and entropy value for the the predictor variables A,B,C as 0.551, 0.951 and 0.69 respectively."
   ]
  },
  {
   "cell_type": "code",
   "execution_count": 5,
   "metadata": {},
   "outputs": [],
   "source": [
    "#Loading the dataset\n",
    "toy_data = pd.read_csv('D:\\\\IMT 575\\\\Datasets\\\\toyData.csv')\n",
    "\n",
    "#Creating two dataframes\n",
    "predictors = toy_data.iloc[:,:3]\n",
    "output = toy_data[['Output']]\n",
    "\n",
    "#Calculating the count of variable A being yes/No, B being On/off,C being High/low\n",
    "variableA = predictors.iloc[:,0].value_counts()\n",
    "variableB = predictors.iloc[:,1].value_counts()\n",
    "variableC = predictors.iloc[:,2].value_counts()\n"
   ]
  },
  {
   "cell_type": "code",
   "execution_count": 6,
   "metadata": {
    "scrolled": true
   },
   "outputs": [
    {
     "name": "stdout",
     "output_type": "stream",
     "text": [
      "0.9182958340544896\n",
      "0\n",
      "0.9182958340544896\n",
      "1.0\n",
      "0.9852281360342515\n",
      "0\n"
     ]
    }
   ],
   "source": [
    "cols = toy_data.columns[:3]\n",
    "\n",
    "#Iterating and calculating gini impurity and entropy for the outcome being Red/Blue given A being yes/no ,given B being On/Off,C being high/low\n",
    "gini_values = []\n",
    "entropy_values=[]\n",
    "for i in cols:\n",
    "    current = toy_data[i]\n",
    "    uniqueValues = current.unique()\n",
    "    for j in uniqueValues:\n",
    "        current_predictors = toy_data[toy_data[i]==j]\n",
    "        reds = len(current_predictors[current_predictors['Output']=='Red'])\n",
    "        blues = len(current_predictors[current_predictors['Output']=='Blue'])\n",
    "        #print(calcGini(reds,blues))\n",
    "        print(calcEntropy(reds,blues))\n",
    "        #Storing the gini impurity and entopry values of A,B and C wrt to our Outcome variable in a list\n",
    "        gini_values.append(calcGini(reds,blues))\n",
    "        entropy_values.append(calcEntropy(reds,blues))"
   ]
  },
  {
   "cell_type": "code",
   "execution_count": 7,
   "metadata": {},
   "outputs": [
    {
     "name": "stdout",
     "output_type": "stream",
     "text": [
      "The gini index for Variable A is  0.27\n",
      "The gini index for Variable B is  0.47\n",
      "The gini index for Variable C is  0.34\n"
     ]
    }
   ],
   "source": [
    "##Now calculating the Gini Impurity of variable A ,B and C using weighted sum\n",
    "prob_A = []\n",
    "prob_B = []\n",
    "prob_C = []\n",
    "prob_A = variableA/(predictors['Variable A'].count())\n",
    "prob_B = variableB/(predictors['Variable B'].count())\n",
    "prob_C = variableC/(predictors['Variable C'].count())\n",
    "giniA = round(weightedSum(prob_A,gini_values[0:2]),2)\n",
    "giniB = round(weightedSum(prob_B,gini_values[2:4]),2)\n",
    "giniC = round(weightedSum(prob_C,gini_values[4:6]),2)\n",
    "\n",
    "print(\"The gini index for Variable A is \",giniA)\n",
    "print(\"The gini index for Variable B is \",giniB)\n",
    "print(\"The gini index for Variable C is \",giniC)"
   ]
  },
  {
   "cell_type": "code",
   "execution_count": 8,
   "metadata": {},
   "outputs": [
    {
     "name": "stdout",
     "output_type": "stream",
     "text": [
      "The entropy for Variable A is  0.551\n",
      "The entropy for Variable B is  0.951\n",
      "The entropy for Variable C is  0.69\n"
     ]
    }
   ],
   "source": [
    "# calculating the Entropy of variable A ,B and C using weighted sum\n",
    "entropyA = round(weightedSum(prob_A,entropy_values[0:2]),3)\n",
    "entropyB = round(weightedSum(prob_B,entropy_values[2:4]),3)\n",
    "entropyC = round(weightedSum(prob_C,entropy_values[4:6]),3)\n",
    "\n",
    "print(\"The entropy for Variable A is \",entropyA)\n",
    "print(\"The entropy for Variable B is \",entropyB)\n",
    "print(\"The entropy for Variable C is \",entropyC)"
   ]
  },
  {
   "cell_type": "markdown",
   "metadata": {},
   "source": [
    "## Part 2: Building trees"
   ]
  },
  {
   "cell_type": "markdown",
   "metadata": {},
   "source": [
    "**5. Import the Boston using dataset using sklearn.datasets. Create a new column called “highPriced” that is a boolean indicator of whether the target value in the dataset (i.e. MEDV or median home value) is greater than $35K.The variable “highPriced” will be our response/output variable going forward. What are some interesting features of this variable?**"
   ]
  },
  {
   "cell_type": "markdown",
   "metadata": {},
   "source": [
    "Answer : On creating the highPriced variable assigning 1 to values where the median home price is greater than 35k, I can see that the ratio of 1 to 0s for this varible is 48:458. This shows that the variable is highly dispropotionate with more housing prices skewed to be less than 35k which could cause a class imabalance."
   ]
  },
  {
   "cell_type": "code",
   "execution_count": 9,
   "metadata": {},
   "outputs": [],
   "source": [
    "from sklearn.datasets import load_boston\n",
    "boston = load_boston()"
   ]
  },
  {
   "cell_type": "code",
   "execution_count": 10,
   "metadata": {},
   "outputs": [],
   "source": [
    "#Converting to pandas dataframe\n",
    "boston_data = pd.DataFrame(boston.data,\n",
    "                     columns= boston.feature_names)"
   ]
  },
  {
   "cell_type": "code",
   "execution_count": 11,
   "metadata": {},
   "outputs": [],
   "source": [
    "#Setting the target variable\n",
    "boston_data['MEDV'] = boston.target"
   ]
  },
  {
   "cell_type": "code",
   "execution_count": 12,
   "metadata": {},
   "outputs": [
    {
     "data": {
      "text/html": [
       "<div>\n",
       "<style scoped>\n",
       "    .dataframe tbody tr th:only-of-type {\n",
       "        vertical-align: middle;\n",
       "    }\n",
       "\n",
       "    .dataframe tbody tr th {\n",
       "        vertical-align: top;\n",
       "    }\n",
       "\n",
       "    .dataframe thead th {\n",
       "        text-align: right;\n",
       "    }\n",
       "</style>\n",
       "<table border=\"1\" class=\"dataframe\">\n",
       "  <thead>\n",
       "    <tr style=\"text-align: right;\">\n",
       "      <th></th>\n",
       "      <th>CRIM</th>\n",
       "      <th>ZN</th>\n",
       "      <th>INDUS</th>\n",
       "      <th>CHAS</th>\n",
       "      <th>NOX</th>\n",
       "      <th>RM</th>\n",
       "      <th>AGE</th>\n",
       "      <th>DIS</th>\n",
       "      <th>RAD</th>\n",
       "      <th>TAX</th>\n",
       "      <th>PTRATIO</th>\n",
       "      <th>B</th>\n",
       "      <th>LSTAT</th>\n",
       "      <th>MEDV</th>\n",
       "    </tr>\n",
       "  </thead>\n",
       "  <tbody>\n",
       "    <tr>\n",
       "      <td>0</td>\n",
       "      <td>0.00632</td>\n",
       "      <td>18.0</td>\n",
       "      <td>2.31</td>\n",
       "      <td>0.0</td>\n",
       "      <td>0.538</td>\n",
       "      <td>6.575</td>\n",
       "      <td>65.2</td>\n",
       "      <td>4.0900</td>\n",
       "      <td>1.0</td>\n",
       "      <td>296.0</td>\n",
       "      <td>15.3</td>\n",
       "      <td>396.90</td>\n",
       "      <td>4.98</td>\n",
       "      <td>24.0</td>\n",
       "    </tr>\n",
       "    <tr>\n",
       "      <td>1</td>\n",
       "      <td>0.02731</td>\n",
       "      <td>0.0</td>\n",
       "      <td>7.07</td>\n",
       "      <td>0.0</td>\n",
       "      <td>0.469</td>\n",
       "      <td>6.421</td>\n",
       "      <td>78.9</td>\n",
       "      <td>4.9671</td>\n",
       "      <td>2.0</td>\n",
       "      <td>242.0</td>\n",
       "      <td>17.8</td>\n",
       "      <td>396.90</td>\n",
       "      <td>9.14</td>\n",
       "      <td>21.6</td>\n",
       "    </tr>\n",
       "    <tr>\n",
       "      <td>2</td>\n",
       "      <td>0.02729</td>\n",
       "      <td>0.0</td>\n",
       "      <td>7.07</td>\n",
       "      <td>0.0</td>\n",
       "      <td>0.469</td>\n",
       "      <td>7.185</td>\n",
       "      <td>61.1</td>\n",
       "      <td>4.9671</td>\n",
       "      <td>2.0</td>\n",
       "      <td>242.0</td>\n",
       "      <td>17.8</td>\n",
       "      <td>392.83</td>\n",
       "      <td>4.03</td>\n",
       "      <td>34.7</td>\n",
       "    </tr>\n",
       "    <tr>\n",
       "      <td>3</td>\n",
       "      <td>0.03237</td>\n",
       "      <td>0.0</td>\n",
       "      <td>2.18</td>\n",
       "      <td>0.0</td>\n",
       "      <td>0.458</td>\n",
       "      <td>6.998</td>\n",
       "      <td>45.8</td>\n",
       "      <td>6.0622</td>\n",
       "      <td>3.0</td>\n",
       "      <td>222.0</td>\n",
       "      <td>18.7</td>\n",
       "      <td>394.63</td>\n",
       "      <td>2.94</td>\n",
       "      <td>33.4</td>\n",
       "    </tr>\n",
       "    <tr>\n",
       "      <td>4</td>\n",
       "      <td>0.06905</td>\n",
       "      <td>0.0</td>\n",
       "      <td>2.18</td>\n",
       "      <td>0.0</td>\n",
       "      <td>0.458</td>\n",
       "      <td>7.147</td>\n",
       "      <td>54.2</td>\n",
       "      <td>6.0622</td>\n",
       "      <td>3.0</td>\n",
       "      <td>222.0</td>\n",
       "      <td>18.7</td>\n",
       "      <td>396.90</td>\n",
       "      <td>5.33</td>\n",
       "      <td>36.2</td>\n",
       "    </tr>\n",
       "  </tbody>\n",
       "</table>\n",
       "</div>"
      ],
      "text/plain": [
       "      CRIM    ZN  INDUS  CHAS    NOX     RM   AGE     DIS  RAD    TAX  \\\n",
       "0  0.00632  18.0   2.31   0.0  0.538  6.575  65.2  4.0900  1.0  296.0   \n",
       "1  0.02731   0.0   7.07   0.0  0.469  6.421  78.9  4.9671  2.0  242.0   \n",
       "2  0.02729   0.0   7.07   0.0  0.469  7.185  61.1  4.9671  2.0  242.0   \n",
       "3  0.03237   0.0   2.18   0.0  0.458  6.998  45.8  6.0622  3.0  222.0   \n",
       "4  0.06905   0.0   2.18   0.0  0.458  7.147  54.2  6.0622  3.0  222.0   \n",
       "\n",
       "   PTRATIO       B  LSTAT  MEDV  \n",
       "0     15.3  396.90   4.98  24.0  \n",
       "1     17.8  396.90   9.14  21.6  \n",
       "2     17.8  392.83   4.03  34.7  \n",
       "3     18.7  394.63   2.94  33.4  \n",
       "4     18.7  396.90   5.33  36.2  "
      ]
     },
     "execution_count": 12,
     "metadata": {},
     "output_type": "execute_result"
    }
   ],
   "source": [
    "#VIewig the fields of the dataset\n",
    "boston_data.head()"
   ]
  },
  {
   "cell_type": "code",
   "execution_count": 13,
   "metadata": {},
   "outputs": [],
   "source": [
    "#Creating the new variable highPriced based on the conditions\n",
    "boston_data['highPriced'] = boston_data['MEDV'].apply(lambda x: 1 if x>35 else 0)\n",
    "        "
   ]
  },
  {
   "cell_type": "code",
   "execution_count": 14,
   "metadata": {},
   "outputs": [
    {
     "name": "stdout",
     "output_type": "stream",
     "text": [
      "Number of 1's in highPrice variable are  48\n",
      "Number of 0's in highPrice variable are  458\n"
     ]
    }
   ],
   "source": [
    "#Determining the number of 1 and 0s in our target variable\n",
    "print(\"Number of 1's in highPrice variable are \",len(boston_data[boston_data['highPriced']==1])) \n",
    "print(\"Number of 0's in highPrice variable are \",len(boston_data[boston_data['highPriced']==0])) \n"
   ]
  },
  {
   "cell_type": "markdown",
   "metadata": {},
   "source": [
    "**6. Using your helper functions and with highPriced as your output, ﬁnd what the best split is along the AGE variable using each of Gini impurity and entropy as the splitting criterion. (Hint: it may help to build this process as a function because you will be doing it many times throughout this problem set.) Assume the “left” side of each split contains all values less than and the “right” side contains all values equal to or greater than. What is the optimal split point when using Gini impurity? What about when using entropy? What if we calculate the same using the CRIM variable? Comment on any similarities and diﬀerences.**"
   ]
  },
  {
   "cell_type": "markdown",
   "metadata": {},
   "source": [
    "Answer: On creating a function called BestSplit to determine the best split along any predictor variable by iterating through the values of each age and determining the gini impurity and entropy for each unique value of age across the dataset, I get the optimal split point for age using both gini impurity and entropy as 37.3.\n",
    "\n",
    "However, when determining the best split across the CRIM variable, i get the best split value using Gini Impurity as 0.02187 and when using entropy as 9.32909."
   ]
  },
  {
   "cell_type": "code",
   "execution_count": 15,
   "metadata": {},
   "outputs": [],
   "source": [
    "#Creating two dataframes of our predictors and target\n",
    "predictors = boston_data.iloc[:,:13]\n",
    "output = boston_data['highPriced']\n",
    "output=output.tolist()"
   ]
  },
  {
   "cell_type": "code",
   "execution_count": 16,
   "metadata": {},
   "outputs": [
    {
     "name": "stdout",
     "output_type": "stream",
     "text": [
      "The best split value using Gini Index is 37.3  and was achieved with  AGE  variable\n",
      "The best split value using Entropy is 37.3  and was achieved with  AGE  variable\n",
      "The best split value using Gini Index is 0.02187  and was achieved with  CRIM  variable\n",
      "The best split value using Entropy is 9.32909  and was achieved with  CRIM  variable\n"
     ]
    }
   ],
   "source": [
    "#This function determines the entropy and gini impurty across all values of predictors and prints the predictor value for best split\n",
    "def BestSplit(inputFeatures,target):\n",
    "    featureList = inputFeatures.columns\n",
    "    finalDf = pd.concat([inputFeatures, target], axis = 1)\n",
    "    initialEntropy = calcEntropy(len(finalDf[finalDf[target.columns[0]] == 1]), \n",
    "                                        len(finalDf[finalDf[target.columns[0]] == 0]))\n",
    "    minEntropy = math.inf\n",
    "    minGini = math.inf\n",
    "    featureValForMinGini = 0\n",
    "    featureValForMinEntropy = 0\n",
    "    featureWithMinEntropy = ''\n",
    "\n",
    "    for feature in featureList:\n",
    "        featureUniqValues = finalDf[feature].unique()\n",
    "        for val in featureUniqValues:\n",
    "            \n",
    "            # Lists to store the gini value and corresponding weights\n",
    "            giniValList = []\n",
    "            entropyValList = []\n",
    "            weightList = []\n",
    "            \n",
    "            # Segregating the values to the left and right tree based on the current value of the feature\n",
    "            leftSideOfTree = finalDf[finalDf[feature] < val]\n",
    "            rightSideOfTree = finalDf[finalDf[feature] >= val]\n",
    "            \n",
    "            # Calculating Gini Value for left tree\n",
    "            giniValList.append(calcGini(len(leftSideOfTree[leftSideOfTree[target.columns[0]] == 1]), \n",
    "                                        len(leftSideOfTree[leftSideOfTree[target.columns[0]] == 0])))\n",
    "            entropyValList.append(calcEntropy(len(leftSideOfTree[leftSideOfTree[target.columns[0]] == 1]), \n",
    "                                        len(leftSideOfTree[leftSideOfTree[target.columns[0]] == 0])))\n",
    "            weightList.append(len(leftSideOfTree)/len(finalDf))\n",
    "            \n",
    "            \n",
    "            # Calculating Gini Value for Right tree\n",
    "            \n",
    "            giniValList.append(calcGini(len(rightSideOfTree[rightSideOfTree[target.columns[0]] == 1]), \n",
    "                                        len(rightSideOfTree[rightSideOfTree[target.columns[0]] == 0])))\n",
    "            \n",
    "            entropyValList.append(calcEntropy(len(rightSideOfTree[rightSideOfTree[target.columns[0]] == 1]), \n",
    "                                        len(rightSideOfTree[rightSideOfTree[target.columns[0]] == 0])))\n",
    "            \n",
    "            weightList.append(len(rightSideOfTree)/len(finalDf))\n",
    "            \n",
    "            \n",
    "            # Calculating final gini for current value of the feature\n",
    "            finalGini = weightedSum(giniValList, weightList)\n",
    "            \n",
    "            # Calculating final entropy for current value of the feature\n",
    "            finalEntropy = weightedSum(entropyValList, weightList)\n",
    "            \n",
    "            \n",
    "            # Updating the minimum gini for final result\n",
    "            if finalGini < minGini:\n",
    "                minGini = finalGini\n",
    "                featureValForMinGini = val\n",
    "                \n",
    "            if finalEntropy < minEntropy:\n",
    "                minEntropy = finalEntropy\n",
    "                featureValForMinEntropy = val\n",
    "                featureWithMinEntropy = feature\n",
    "            \n",
    "                \n",
    "    print('The best split value using Gini Index is',str(featureValForMinGini), ' and was achieved with ', featureWithMinEntropy,' variable')\n",
    "    \n",
    "    print('The best split value using Entropy is',str(featureValForMinEntropy), ' and was achieved with ', featureWithMinEntropy,' variable')\n",
    "    \n",
    "    #return [featureWithMinEntropy, featureValForMinEntropy]\n",
    "    \n",
    "BestSplit(pd.DataFrame(boston_data['AGE']), pd.DataFrame(boston_data['highPriced']))\n",
    "BestSplit(pd.DataFrame(boston_data['CRIM']), pd.DataFrame(boston_data['highPriced']))\n"
   ]
  },
  {
   "cell_type": "markdown",
   "metadata": {},
   "source": [
    "**7. Import sklearn’s DecisionTreeClassiﬁer and ﬁnd what the optimal split is along the AGE variable using entropy. Show that the optimal value as calculated by sklearn’s classiﬁer is 37.25. If this is diﬀerent than what you calculated, explain why and adjust your outputs so it gives you the same value. (Hint: you may have implemented a splitting method that looked at axis-aligned splits at every data point whereas sklearn looks at axis-aligned splits between every pair of data points.)**"
   ]
  },
  {
   "cell_type": "markdown",
   "metadata": {},
   "source": [
    "Answer : In the previous question, I had taken each age value present in the dataset to determine the best split value based on our outcome variable and hence the age in the dataset with the lowest entropy value was determined as 37.3. However, as the hint mentions, sklearn looks at axis alined splits between every \"pair of datapoints\". Hence inorder to make my previous function perform as the Decision Tree Classifier(created a new function BestSplitModify below), I created my splitting points by sorting the age values and calculating the mean between each pair of adjacent data points. On using these points to determine the best split, I obtained my best split at the age value of 37.25 that was the mean of the two age data points 37.2 and 37.3 present in the age column."
   ]
  },
  {
   "cell_type": "code",
   "execution_count": 17,
   "metadata": {},
   "outputs": [
    {
     "name": "stdout",
     "output_type": "stream",
     "text": [
      "The root best split for age variable occurs at  37.25\n"
     ]
    },
    {
     "data": {
      "image/png": "[encoded data removed]",
      "text/plain": [
       "<Figure size 432x288 with 1 Axes>"
      ]
     },
     "metadata": {
      "needs_background": "light"
     },
     "output_type": "display_data"
    }
   ],
   "source": [
    "\n",
    "#Creating our decision tree for age as our predictor\n",
    "clf = DecisionTreeClassifier(random_state=0,criterion=\"entropy\",splitter='best',max_depth=1)\n",
    "predict = np.array(boston_data[['AGE']])\n",
    "output = np.array(boston_data[['highPriced']])\n",
    "#Fitting our model taking LSTAT and RM as our predictors\n",
    "model = clf.fit(predict,output)\n",
    "threshold = clf.tree_.threshold #Storing all the split thresholds from top to bottom\n",
    "print(\"The root best split for age variable occurs at \",threshold[0])\n",
    "plot=tree.plot_tree(model)\n",
    "\n"
   ]
  },
  {
   "cell_type": "code",
   "execution_count": 18,
   "metadata": {},
   "outputs": [
    {
     "name": "stdout",
     "output_type": "stream",
     "text": [
      "['AGE', 37.25]\n",
      "['CRIM', 9.280695000000001]\n"
     ]
    }
   ],
   "source": [
    "def BestSplitModify(inputFeatures,target):\n",
    "    featureList = inputFeatures.columns\n",
    "    finalDf = pd.concat([inputFeatures, target], axis = 1)\n",
    "    initialEntropy = calcEntropy(len(finalDf[finalDf[target.columns[0]] == 1]), \n",
    "                                        len(finalDf[finalDf[target.columns[0]] == 0]))\n",
    "    minEntropy = math.inf\n",
    "    minGini = math.inf\n",
    "    featureValForMinGini = 0\n",
    "    featureValForMinEntropy = 0\n",
    "    featureWithMinEntropy = ''\n",
    "   \n",
    "    for feature in featureList:\n",
    "        meanList =[]\n",
    "        valList = []\n",
    "        valList = sorted(finalDf[feature].tolist())\n",
    "        for i in range(0,len(valList)-2):\n",
    "            meanList.append((valList[i]+valList[i+1])/2)\n",
    "        #print(\"mean lis\",meanList)\n",
    "        featureUniqValues = list(set(meanList))\n",
    "        for val in featureUniqValues:\n",
    "            \n",
    "            # Lists to store the gini value and corresponding weights\n",
    "            giniValList = []\n",
    "            entropyValList = []\n",
    "            weightList = []\n",
    "            \n",
    "            # Segregating the values to the left and right tree based on the current value of the feature\n",
    "            leftSideOfTree = finalDf[finalDf[feature] < val]\n",
    "            rightSideOfTree = finalDf[finalDf[feature] >= val]\n",
    "            \n",
    "            # Calculating Gini Value for left tree\n",
    "            giniValList.append(calcGini(len(leftSideOfTree[leftSideOfTree[target.columns[0]] == 1]), \n",
    "                                        len(leftSideOfTree[leftSideOfTree[target.columns[0]] == 0])))\n",
    "            entropyValList.append(calcEntropy(len(leftSideOfTree[leftSideOfTree[target.columns[0]] == 1]), \n",
    "                                        len(leftSideOfTree[leftSideOfTree[target.columns[0]] == 0])))\n",
    "            weightList.append(len(leftSideOfTree)/len(finalDf))\n",
    "            \n",
    "            \n",
    "            # Calculating Gini Value for Right tree\n",
    "            \n",
    "            giniValList.append(calcGini(len(rightSideOfTree[rightSideOfTree[target.columns[0]] == 1]), \n",
    "                                        len(rightSideOfTree[rightSideOfTree[target.columns[0]] == 0])))\n",
    "            \n",
    "            entropyValList.append(calcEntropy(len(rightSideOfTree[rightSideOfTree[target.columns[0]] == 1]), \n",
    "                                        len(rightSideOfTree[rightSideOfTree[target.columns[0]] == 0])))\n",
    "            \n",
    "            weightList.append(len(rightSideOfTree)/len(finalDf))\n",
    "            \n",
    "            \n",
    "            # Calculating final gini for current value of the feature\n",
    "            finalGini = weightedSum(giniValList, weightList)\n",
    "            \n",
    "            # Calculating final entropy for current value of the feature\n",
    "            finalEntropy = weightedSum(entropyValList, weightList)\n",
    "            \n",
    "            \n",
    "            # Updating the minimum gini for final result\n",
    "            if finalGini < minGini:\n",
    "                minGini = finalGini\n",
    "                featureValForMinGini = val\n",
    "                \n",
    "            if finalEntropy < minEntropy:\n",
    "                minEntropy = finalEntropy\n",
    "                featureValForMinEntropy = val\n",
    "                featureWithMinEntropy = feature\n",
    "            \n",
    "                \n",
    "   \n",
    "    \n",
    "    return [featureWithMinEntropy, featureValForMinEntropy]\n",
    "    \n",
    "print(BestSplitModify(pd.DataFrame(boston_data['AGE']), pd.DataFrame(boston_data['highPriced'])))\n",
    "print(BestSplitModify(pd.DataFrame(boston_data['CRIM']), pd.DataFrame(boston_data['highPriced'])))\n"
   ]
  },
  {
   "cell_type": "markdown",
   "metadata": {},
   "source": [
    "**8. Using the RM, LSTAT, and RAD variables, build a a decision tree with 2 levels (3 split points, 4 leaf nodes) based on entropy. Show the splits as a pandas DataFrame with the following columns: level (indicates which level of the tree the split occurs. You should have a 1 once and 2 twice), col (indicates the column across which the split occurs), and threshold (indicates the threshold used in the split). Keep in mind that when building this tree, each split necessitates that you ﬁnd the optimal split for that data subset across all three variables. Your output should resemble the table below.\n",
    "level col threshold 1 ﬁrst split here (variable/column) ﬁrst split here (threshold/value) 2 Left side split here (variable/column) Left side split here (threshold/value) 2 Right side split here (variable/column) Right side split here (threshold/value)**"
   ]
  },
  {
   "cell_type": "code",
   "execution_count": 19,
   "metadata": {},
   "outputs": [],
   "source": [
    "#This function determines the best split across a set of predictor variables and returns the level, column and threshold for split\n",
    "def treeCreator(variableList, target):\n",
    "    \n",
    "    finalDf = pd.concat([variableList, target], axis = 1)\n",
    "    featureCols = list(variableList.columns)\n",
    "    #Creating the output dataframe storing the level,column and threshold at which each split occurs\n",
    "    outputDf = pd.DataFrame(columns = ['level', 'col','threshold'])\n",
    "    \n",
    "    # Root Level Split\n",
    "    InitialSplit = BestSplitModify(variableList,target)\n",
    "    outputDf = outputDf.append({'level':1, 'col':InitialSplit[0], 'threshold': InitialSplit[1]},ignore_index=True)\n",
    "    #featureCols.remove(InitialSplit[0])\n",
    "    \n",
    "    # Generating left and right trees after root split\n",
    "    leftSideOfTree = finalDf[finalDf[InitialSplit[0]] < InitialSplit[1]]\n",
    "    rightSideOfTree = finalDf[finalDf[InitialSplit[0]] >= InitialSplit[1]]\n",
    "\n",
    "    # Splitting the left subtree\n",
    "    leftSplit = BestSplitModify(leftSideOfTree[featureCols], leftSideOfTree[target.columns])\n",
    "    outputDf = outputDf.append({'level':2, 'col':leftSplit[0], 'threshold': leftSplit[1]},ignore_index=True)\n",
    "    #featureCols.remove(leftSplit[0])\n",
    "    \n",
    "    # Splitting the Right subtree\n",
    "    rightSplit = BestSplitModify(rightSideOfTree[featureCols], rightSideOfTree[target.columns])\n",
    "    outputDf = outputDf.append({'level':2, 'col':rightSplit[0], 'threshold': rightSplit[1]},ignore_index=True)\n",
    "\n",
    "    \n",
    "    #Printing the output as a data frame\n",
    "    print(outputDf)\n",
    "    return outputDf\n"
   ]
  },
  {
   "cell_type": "code",
   "execution_count": 20,
   "metadata": {},
   "outputs": [
    {
     "name": "stdout",
     "output_type": "stream",
     "text": [
      "  level    col  threshold\n",
      "0     1     RM      6.941\n",
      "1     2  LSTAT      9.535\n",
      "2     2     RM      7.437\n"
     ]
    }
   ],
   "source": [
    "treedata = treeCreator(pd.DataFrame(boston_data[['RM', 'LSTAT','RAD']]), pd.DataFrame(boston_data['highPriced'])) "
   ]
  },
  {
   "cell_type": "markdown",
   "metadata": {},
   "source": [
    "**9. Visualize your splits on an X-Y plane. Set the x-axis to be RM and the y-axis to be LSTAT. Plot the target variable and use straight lines to indicate the axis-aligned splits for your 2-level decision tree. Make sure your visualization is understandable and comment on what you see**"
   ]
  },
  {
   "cell_type": "markdown",
   "metadata": {},
   "source": [
    "Answer: From the visualization I can see that the not high priced values are concentrated across RM values in the range of 4 to 8 while the high priced values are concentrated across RM values in the range of 6 to 9  . On plotting the three threshold values obtained from the previous question, it is seen that the function first finds the best split across the RM value of 6.947 which seems to be an intersection across both the concentrated range values, then across the LSTAT value of 9.535 and finally across RM at a value of 7.437."
   ]
  },
  {
   "cell_type": "code",
   "execution_count": 21,
   "metadata": {},
   "outputs": [
    {
     "data": {
      "image/png": "[encoded data removed]",
      "text/plain": [
       "<Figure size 432x288 with 1 Axes>"
      ]
     },
     "metadata": {
      "needs_background": "light"
     },
     "output_type": "display_data"
    }
   ],
   "source": [
    "#Diving the target variable based on its two outcomes\n",
    "high_price_yes = boston_data[boston_data.highPriced == 1]\n",
    "high_price_no = boston_data[boston_data.highPriced == 0]\n",
    "plt.scatter(high_price_yes['RM'], high_price_yes['LSTAT'], c='g', edgecolor='k',s=80, label =\"High Priced housing\")\n",
    "plt.scatter(high_price_no['RM'], high_price_no['LSTAT'], c='b', edgecolor='k', s=80,label =\"Not High Priced housing\")\n",
    "plt.xlabel('RM')\n",
    "plt.ylabel('LSTAT')\n",
    "plt.title(\"Comparing the average number of rooms per dwelling(RM) vs  % lower status of the population(LSTAT)\")\n",
    "plt.plot([treedata.iloc[0][2],treedata.iloc[0][2]],[0,40],c ='y', linestyle='dashed')\n",
    "plt.plot([0,10],[treedata.iloc[1][2],treedata.iloc[1][2]],c ='y', linestyle='dashed')\n",
    "plt.plot([treedata.iloc[2][2],treedata.iloc[2][2]],[0,40],c ='y', linestyle='dashed')\n",
    "plt.legend()\n",
    "plt.show()"
   ]
  },
  {
   "cell_type": "markdown",
   "metadata": {},
   "source": [
    "## Part 3: Making predictions\n"
   ]
  },
  {
   "cell_type": "markdown",
   "metadata": {},
   "source": [
    "**10. Create a training/test split for your data. Assume the data is already randomized and select every 5th observation from the original dataset to be in your test data (i.e. when working in Pandas, your test dataframe should contain index 0, 5, 10, 15, ...) and all other observations in your training data. How many observations are in your training and test datasets, respectively? How does the target variable look across the two datasets?**"
   ]
  },
  {
   "cell_type": "raw",
   "metadata": {},
   "source": [
    "Answer : On splitting the dataset as training and test data, my training dataset consists of 404 values and my test dataset consists of 102 values. \n",
    "\n",
    "On determining the training dataset distribution, I can see that 10.15% of the data set has the target variable valued Yes while 89.85% of the dataset has the target variable valued No. While the training set has a distribution of 6.84 % \n",
    "of the target variable valued less and 93.14% of the data set has the target variable valued No.\n",
    "\n",
    "This shows that there is a high percentage of No values in both the training and test set."
   ]
  },
  {
   "cell_type": "code",
   "execution_count": 22,
   "metadata": {},
   "outputs": [
    {
     "name": "stdout",
     "output_type": "stream",
     "text": [
      "Number of observations in training dataset 404\n",
      "Number of observations in test dataset 102\n"
     ]
    }
   ],
   "source": [
    "bostonData_train = boston_data[boston_data.index%5 != 0]\n",
    "bostonData_test = boston_data[boston_data.index%5 == 0]\n",
    "\n",
    "print('Number of observations in training dataset', len(bostonData_train))\n",
    "print('Number of observations in test dataset', len(bostonData_test))"
   ]
  },
  {
   "cell_type": "code",
   "execution_count": 23,
   "metadata": {},
   "outputs": [
    {
     "name": "stdout",
     "output_type": "stream",
     "text": [
      "Training Dataset Distribution\n",
      "%Yes for target variable 10.15 %\n",
      "%No for target variable 89.85 %\n",
      "-----------------------------------------------------------------------------------------\n",
      "Testing Dataset Distribution\n",
      "%Yes for target variable 6.86 %\n",
      "%No for target variable 93.14 %\n"
     ]
    }
   ],
   "source": [
    "# How does the target variable look across the two datasets\n",
    "\n",
    "# We will check the percentage of values that are 1 and 0 in both train and test datasets to see how the target variable looks\n",
    "\n",
    "\n",
    "print('Training Dataset Distribution')\n",
    "print('%Yes for target variable', round(100* len(bostonData_train[bostonData_train['highPriced']==1])/len(bostonData_train),2),'%')\n",
    "print('%No for target variable', round(100* len(bostonData_train[bostonData_train['highPriced']==0])/len(bostonData_train),2),'%')\n",
    "print('-----------------------------------------------------------------------------------------')\n",
    "print('Testing Dataset Distribution')\n",
    "print('%Yes for target variable', round(100* len(bostonData_test[bostonData_test['highPriced']==1])/len(bostonData_test),2),'%')\n",
    "print('%No for target variable', round(100* len(bostonData_test[bostonData_test['highPriced']==0])/len(bostonData_test),2),'%')"
   ]
  },
  {
   "cell_type": "markdown",
   "metadata": {},
   "source": [
    "**11. Create a baseline set of predictions. In classiﬁcation tasks, when reaching a leaf node that is not pure, predictions are often made by randomly selecting from training observations in the corresponding node. Suppose you had a tree with zero splits across your training dataset (i.e. the entirety of your training dataset) and you made predictions for your test dataset. In other words, “predict” values for your test dataset by randomly sampling (with replacement) from the target variable across the entirety of your training dataset. How do your predictions fare in terms of accuracy and other metrics? (Note: when comparing subsequent classiﬁers, use not only accuracy, but other metrics as well. Also, contextualize diﬀerences you may ﬁnd.)**"
   ]
  },
  {
   "cell_type": "markdown",
   "metadata": {},
   "source": [
    "Answer : On selecting the predictor values by randomly sampling accross the training dataset with replacement, I obtained an accuracy of 85%. This shows that even without creating a model the dataset can achieve high accuracy by just randomly sampling predicted values.\n",
    "However on further evaluating the predictions based on precision and recall, I obtained a precision of 94% for the predictions made on the target variable to not be high priced and a precision of 17% for the predictions made on the target variable to be high priced. Similarly, I obtained a recall of 89% for the predictions made on the target variable to not be high priced and a recall of 21% for the predictions made on the target variable to be high priced. This shows that while the accuracy of the predictions returned is high, the predictions are not properly classifying the values where the target variable is labelled 'Yes'.\n",
    "\n",
    "This can be accounted by the fact that there is a high class imbalance of yes and no's (1 and 0's) for our target variable. Hence while we get a high precision when we are predicting the outcome as \"No\" it fails when it is made to classify unobserved data and so during the random sampling it cannot accurately predict the 'Yes' values of the target variable."
   ]
  },
  {
   "cell_type": "code",
   "execution_count": 24,
   "metadata": {
    "scrolled": true
   },
   "outputs": [
    {
     "name": "stdout",
     "output_type": "stream",
     "text": [
      "Confusion Matrix :\n",
      "[[81 14]\n",
      " [ 6  1]]\n",
      "Accuracy of the predictions are: 0.803921568627451\n",
      "              precision    recall  f1-score   support\n",
      "\n",
      "           0       0.93      0.85      0.89        95\n",
      "           1       0.07      0.14      0.09         7\n",
      "\n",
      "    accuracy                           0.80       102\n",
      "   macro avg       0.50      0.50      0.49       102\n",
      "weighted avg       0.87      0.80      0.84       102\n",
      "\n"
     ]
    }
   ],
   "source": [
    "#Creating a function predictions that predicts the training values by randomly sampling from the testset\n",
    "def predictions():\n",
    "    predictval=(np.random.choice(bostonData_train['highPriced'], size=len(bostonData_test), replace=True, p=None))\n",
    "    actualval = pd.Series(bostonData_test['highPriced'],name='Actual')\n",
    "    #print(actualval)\n",
    "    print(\"Confusion Matrix :\")\n",
    "    print(confusion_matrix(actualval,predictval))\n",
    "    print('Accuracy of the predictions are:',accuracy_score(actualval, predictval))\n",
    "    print(classification_report(actualval, predictval))\n",
    "predictions()"
   ]
  },
  {
   "cell_type": "markdown",
   "metadata": {},
   "source": [
    "**12. Now, use a 2-level decision tree to make predictions. Re-train a 2-level decision tree (i.e. a tree with 4 leaf nodes) using the training dataset with only the RM and LSTAT variables as inputs. How does it compare to the decision tree you built using the entirety of the data? Again, at each leaf node, randomly sample the output values from the training observations to make predictions for the test set. How do the predictions from this classiﬁer compare to the baseline you created in question 11?**"
   ]
  },
  {
   "cell_type": "markdown",
   "metadata": {},
   "source": [
    "Answer : On recreating the 2-level decision tree on the training set, the threshold values for the splits have changed and have gotten lowered as compared to the decision tree built on the entire dataset. As seen below the threshold values for the three splits occur first taking the variable RM at a value of 7.127, then taking the variable LSTAT at a value of 5.115 then taking the variable RM at a value of 7.437.\n",
    "\n",
    "On determining the predictions at each leaf node,(treePredictions method) I obtain an accuracy of 95%, which is much higher than the accuracy obtained in Q11. Further, I obtained a precision of 99% for the classifications made on the target variable to not be high priced and a precision of 60% for the classifications made on the target variable to be high priced. This is much higher than the precision of obtained in the previous question.\n",
    "\n",
    "Similarly, I obtained a recall of 96% for the classifications made on the target variable to not be high priced and a recall of 86% for the predictions made on the target variable to be high priced. \n",
    "\n",
    "This shows that on creating the model and sampling the predictions based on the leaf nodes, the model is able to better classify our target variable on unobserved data."
   ]
  },
  {
   "cell_type": "code",
   "execution_count": 25,
   "metadata": {},
   "outputs": [
    {
     "data": {
      "text/html": [
       "<div>\n",
       "<style scoped>\n",
       "    .dataframe tbody tr th:only-of-type {\n",
       "        vertical-align: middle;\n",
       "    }\n",
       "\n",
       "    .dataframe tbody tr th {\n",
       "        vertical-align: top;\n",
       "    }\n",
       "\n",
       "    .dataframe thead th {\n",
       "        text-align: right;\n",
       "    }\n",
       "</style>\n",
       "<table border=\"1\" class=\"dataframe\">\n",
       "  <thead>\n",
       "    <tr style=\"text-align: right;\">\n",
       "      <th></th>\n",
       "      <th>level</th>\n",
       "      <th>col</th>\n",
       "      <th>threshold</th>\n",
       "    </tr>\n",
       "  </thead>\n",
       "  <tbody>\n",
       "    <tr>\n",
       "      <td>0</td>\n",
       "      <td>1</td>\n",
       "      <td>RM</td>\n",
       "      <td>7.127</td>\n",
       "    </tr>\n",
       "    <tr>\n",
       "      <td>1</td>\n",
       "      <td>2</td>\n",
       "      <td>LSTAT</td>\n",
       "      <td>5.115</td>\n",
       "    </tr>\n",
       "    <tr>\n",
       "      <td>2</td>\n",
       "      <td>2</td>\n",
       "      <td>RM</td>\n",
       "      <td>7.437</td>\n",
       "    </tr>\n",
       "  </tbody>\n",
       "</table>\n",
       "</div>"
      ],
      "text/plain": [
       "  level    col  threshold\n",
       "0     1     RM      7.127\n",
       "1     2  LSTAT      5.115\n",
       "2     2     RM      7.437"
      ]
     },
     "execution_count": 25,
     "metadata": {},
     "output_type": "execute_result"
    }
   ],
   "source": [
    "#This function creates a 2 level decision tree across our training dataset\n",
    "def train_tree(variableList, target):\n",
    "    \n",
    "    finalDf = pd.concat([variableList, target], axis = 1)\n",
    "    featureCols = list(variableList.columns)\n",
    "    outputDf = pd.DataFrame(columns = ['level', 'col','threshold'])\n",
    "    \n",
    "    # Root Level Split\n",
    "    InitialSplit = BestSplitModify(variableList,target)\n",
    "    outputDf = outputDf.append({'level':1, 'col':InitialSplit[0], 'threshold': InitialSplit[1]},ignore_index=True)\n",
    "\n",
    "    \n",
    "    # Generating left and right trees after root split\n",
    "    leftSideOfTree = finalDf[finalDf[InitialSplit[0]] < InitialSplit[1]]\n",
    "    rightSideOfTree = finalDf[finalDf[InitialSplit[0]] >= InitialSplit[1]]\n",
    "\n",
    "    # Splitting the left subtree\n",
    "    leftSplit = BestSplitModify(leftSideOfTree[featureCols], leftSideOfTree[target.columns])\n",
    "    outputDf = outputDf.append({'level':2, 'col':leftSplit[0], 'threshold': leftSplit[1]},ignore_index=True)\n",
    "    \n",
    "    #Storing left and right leaf node of left side of tree\n",
    "    leftNodeleftLeaf =  leftSideOfTree[leftSideOfTree[leftSplit[0]]<leftSplit[1]]\n",
    "    leftNoderightLeaf = leftSideOfTree[leftSideOfTree[leftSplit[0]]>=leftSplit[1]]\n",
    "    \n",
    "    \n",
    "    \n",
    "    \n",
    "    # Splitting the Right subtree\n",
    "    rightSplit = BestSplitModify(rightSideOfTree[featureCols], rightSideOfTree[target.columns])\n",
    "    outputDf = outputDf.append({'level':2, 'col':rightSplit[0], 'threshold': rightSplit[1]},ignore_index=True)\n",
    "     \n",
    "  \n",
    "  \n",
    "    #print(outputDf)\n",
    "  \n",
    "    return outputDf\n",
    "  \n",
    "\n",
    "\n",
    "train_tree(pd.DataFrame(bostonData_train[['RM', 'LSTAT']]), pd.DataFrame(bostonData_train['highPriced']))"
   ]
  },
  {
   "cell_type": "code",
   "execution_count": 26,
   "metadata": {},
   "outputs": [
    {
     "name": "stdout",
     "output_type": "stream",
     "text": [
      "For Left Node left leaf :\n",
      "Probability of outcome variable being no is  0.7777777777777778\n",
      "Probability of outcome variable being yes is  0.2222222222222222\n",
      "\n",
      "For Left Node right leaf :\n",
      "Probability of outcome variable being no is  0.9909365558912386\n",
      "Probability of outcome variable being yes is  0.00906344410876133\n",
      "\n",
      "For Right Node left leaf :\n",
      "Probability of outcome variable being no is  0.65\n",
      "Probability of outcome variable being yes is  0.35\n",
      "\n",
      "For Right Node right leaf :\n",
      "Probability of outcome variable being no is  0.038461538461538464\n",
      "Probability of outcome variable being yes is  0.9615384615384616\n",
      "\n"
     ]
    },
    {
     "name": "stderr",
     "output_type": "stream",
     "text": [
      "C:\\Users\\12064\\Anaconda3\\lib\\site-packages\\ipykernel_launcher.py:30: UserWarning: Boolean Series key will be reindexed to match DataFrame index.\n"
     ]
    }
   ],
   "source": [
    "#This function is used to determine the probabilities of our leaf nodes wrt to our outcome variable\n",
    "#to validate the probabilities of the leaf nodes as mentioned in Q13\n",
    "def probLeaf(variableList,target):\n",
    "    finalDf = pd.concat([variableList, target], axis = 1)\n",
    "    featureCols = list(variableList.columns)\n",
    "    \n",
    "    # Root Level Split\n",
    "    InitialSplit = BestSplitModify(variableList,target)\n",
    "    \n",
    "    # Generating left and right trees after root split\n",
    "    leftSideOfTree = finalDf[finalDf[InitialSplit[0]] < InitialSplit[1]]\n",
    "    rightSideOfTree = finalDf[finalDf[InitialSplit[0]] >= InitialSplit[1]]\n",
    "\n",
    "    # Splitting the left subtree\n",
    "    leftSplit = BestSplitModify(leftSideOfTree[featureCols], leftSideOfTree[target.columns])\n",
    "    \n",
    "    #Storing left and right leaf node of left side of tree\n",
    "    leftNodeleftLeaf =  leftSideOfTree[leftSideOfTree[leftSplit[0]]<leftSplit[1]]\n",
    "    leftNoderightLeaf = leftSideOfTree[leftSideOfTree[leftSplit[0]]>=leftSplit[1]]\n",
    "      \n",
    "    \n",
    "    # Splitting the Right subtree\n",
    "    rightSplit = BestSplitModify(rightSideOfTree[featureCols], rightSideOfTree[target.columns])\n",
    "     \n",
    "    #Storing left and right leaf node of right side of tree\n",
    "    rightNodeleftLeaf =  rightSideOfTree[rightSideOfTree[rightSplit[0]]<rightSplit[1]]\n",
    "    rightNoderightLeaf = rightSideOfTree[rightSideOfTree[rightSplit[0]]>=rightSplit[1]]\n",
    "    \n",
    "     #Calculating the distribution of target  variable accross left and right leafs\n",
    "    leftNodeleftLeafYes =  len(leftNodeleftLeaf[leftSideOfTree[target.columns[0]] == 1])\n",
    "    leftNodeleftLeafNo = len(leftNodeleftLeaf[leftNodeleftLeaf[target.columns[0]]==0])\n",
    "    \n",
    "    leftNoderightLeafYes = len(leftNoderightLeaf[leftNoderightLeaf[target.columns[0]]==1])\n",
    "    leftNoderightLeafNo = len(leftNoderightLeaf[leftNoderightLeaf[target.columns[0]]==0])\n",
    "    \n",
    "    \n",
    "    rightNodeleftLeafYes = len(rightNodeleftLeaf[rightNodeleftLeaf[target.columns[0]]==1])\n",
    "    rightNodeleftLeafNo = len(rightNodeleftLeaf[rightNodeleftLeaf[target.columns[0]]==0])\n",
    "    \n",
    "    rightNoderightLeafYes = len(rightNoderightLeaf[rightNoderightLeaf[target.columns[0]]==1])\n",
    "    rightNoderightLeafNo = len(rightNoderightLeaf[rightNoderightLeaf[target.columns[0]]==0])\n",
    "    \n",
    "    \n",
    "    #Finding probabilities of outcome variables based on the leafs\n",
    "    ProbleftNodeleftLeafYes = leftNodeleftLeafYes/(leftNodeleftLeafYes+leftNodeleftLeafNo)\n",
    "    ProbleftNodeleftLeafNo = leftNodeleftLeafNo/ (leftNodeleftLeafYes+leftNodeleftLeafNo)\n",
    "    \n",
    "    print('For Left Node left leaf :')\n",
    "    print('Probability of outcome variable being no is ',ProbleftNodeleftLeafNo)\n",
    "    print('Probability of outcome variable being yes is ',ProbleftNodeleftLeafYes)\n",
    "    print(\"\")\n",
    "    \n",
    "    ProbleftNoderightLeafYes = leftNoderightLeafYes/(leftNoderightLeafYes+leftNoderightLeafNo)\n",
    "    ProbleftNoderightLeafNo = leftNoderightLeafNo/(leftNoderightLeafYes+leftNoderightLeafNo)\n",
    "    \n",
    "    print('For Left Node right leaf :')\n",
    "    print('Probability of outcome variable being no is ',ProbleftNoderightLeafNo)\n",
    "    print('Probability of outcome variable being yes is ',ProbleftNoderightLeafYes)\n",
    "    print(\"\")\n",
    "    \n",
    "    ProbrightNodeleftLeafYes = rightNodeleftLeafYes/(rightNodeleftLeafYes+rightNodeleftLeafNo)\n",
    "    ProbrightNodeleftLeafNo = rightNodeleftLeafNo/(rightNodeleftLeafYes+rightNodeleftLeafNo)\n",
    "    \n",
    "    print('For Right Node left leaf :')\n",
    "    print('Probability of outcome variable being no is ',ProbrightNodeleftLeafNo)\n",
    "    print('Probability of outcome variable being yes is ',ProbrightNodeleftLeafYes)\n",
    "    print(\"\")\n",
    "    \n",
    "    ProbrightNoderightLeafYes = rightNoderightLeafYes/(rightNoderightLeafYes +rightNoderightLeafNo)\n",
    "    ProbrightNoderightLeafNo = rightNoderightLeafNo/(rightNoderightLeafYes +rightNoderightLeafNo)\n",
    "    \n",
    "    print('For Right Node right leaf :')\n",
    "    print('Probability of outcome variable being no is ',ProbrightNoderightLeafNo)\n",
    "    print('Probability of outcome variable being yes is ',ProbrightNoderightLeafYes)\n",
    "    print(\"\")\n",
    "    \n",
    "probLeaf(pd.DataFrame(bostonData_train[['RM', 'LSTAT']]), pd.DataFrame(bostonData_train['highPriced']))  "
   ]
  },
  {
   "cell_type": "code",
   "execution_count": 27,
   "metadata": {},
   "outputs": [],
   "source": [
    "#Creating a function called createLeafs that returns leaf nodes for a particular level based on the predictors and outcome variable passed\n",
    "def createLeafs(variableList, target):\n",
    "    \n",
    "    finalDf = pd.concat([variableList, target], axis = 1)\n",
    "    featureCols = list(variableList.columns)\n",
    "    # Root Level Split\n",
    "    InitialSplit = BestSplitModify(variableList,target)\n",
    "   \n",
    "    # Root Level Split\n",
    "    \n",
    "    # Generating left and right trees after root split\n",
    "    leftSideOfTree = finalDf[finalDf[InitialSplit[0]] < InitialSplit[1]]\n",
    "    rightSideOfTree = finalDf[finalDf[InitialSplit[0]] >= InitialSplit[1]]\n",
    "\n",
    "    # Splitting the left subtree\n",
    "    leftSplit = BestSplitModify(leftSideOfTree[featureCols], leftSideOfTree[target.columns])\n",
    "    \n",
    "    #Storing left and right leaf node of left side of tree\n",
    "    leftNodeleftLeaf =  leftSideOfTree[leftSideOfTree[leftSplit[0]]<leftSplit[1]]\n",
    "    leftNoderightLeaf = leftSideOfTree[leftSideOfTree[leftSplit[0]]>=leftSplit[1]]\n",
    "    \n",
    "    \n",
    "    \n",
    "    \n",
    "    # Splitting the Right subtree\n",
    "    rightSplit = BestSplitModify(rightSideOfTree[featureCols], rightSideOfTree[target.columns])\n",
    "  \n",
    "\n",
    "    \n",
    "    #Storing left and right leaf node of right side of tree\n",
    "    rightNodeleftLeaf =  rightSideOfTree[rightSideOfTree[rightSplit[0]]<rightSplit[1]]\n",
    "    rightNoderightLeaf = rightSideOfTree[rightSideOfTree[rightSplit[0]]>=rightSplit[1]]\n",
    "    \n",
    "    \n",
    "    \n",
    "     \n",
    "   \n",
    "   \n",
    "    \n",
    "\n",
    "  \n",
    "    \n",
    "    #print(\"count of LefNodeleftLeafYes\",leftNodeleftLeaf)\n",
    "    return (leftNodeleftLeaf,leftNoderightLeaf,rightNodeleftLeaf,rightNoderightLeaf)\n",
    "  \n",
    "\n",
    "\n"
   ]
  },
  {
   "cell_type": "code",
   "execution_count": 28,
   "metadata": {},
   "outputs": [],
   "source": [
    "#This function is used to make predictions of the leaf nodes on the test \n",
    "def treePredictions(features) :\n",
    "    #columns = X.columns\n",
    "    splits = train_tree(pd.DataFrame(bostonData_train[['RM', 'LSTAT']]),pd.DataFrame(bostonData_train['highPriced']))\n",
    "    leafs = createLeafs(pd.DataFrame(bostonData_train[['RM', 'LSTAT']]),pd.DataFrame(bostonData_train['highPriced']))\n",
    "    leftNodeLeftLeaf = leafs[0]\n",
    "    leftNodeRightLeaf = leafs[1]\n",
    "    rightSideLeftLeaf = leafs[2]\n",
    "    rightSideRightLeaf = leafs[3]\n",
    "    \n",
    "    #Creating an array pred, that stores the predicted values obtained from random sampling\n",
    "    pred = np.zeros(len(features))\n",
    "    for i in range(len(features)):\n",
    "        #Determining if incoming row from test dataset is to be placed in left node leaf leaf \n",
    "        \n",
    "        if(features.iloc[i]['RM'] < splits.iloc[0][2] and features.iloc[i]['LSTAT']< splits.iloc[1][2]) :\n",
    "            pred[i] = (np.random.choice(leftNodeLeftLeaf['highPriced'], size=1, replace=True, p=None))\n",
    "        #Determining if incoming row from test dataset is to be placed in left node right leaf\n",
    "        elif(features.iloc[i]['RM'] < splits.iloc[0][2] and features.iloc[i]['LSTAT']>= splits.iloc[1][2]) :\n",
    "            pred[i] = (np.random.choice(leftNodeRightLeaf['highPriced'], size=1, replace=True, p=None))\n",
    "               \n",
    "         #Determining if incoming row from test dataset is to be placed in right node left leaf\n",
    "\n",
    "        elif(features.iloc[i]['RM'] >= splits.iloc[0][2] and features.iloc[i]['RM'] < splits.iloc[2][2]) :\n",
    "            pred[i] = (np.random.choice(rightSideLeftLeaf['highPriced'], size=1, replace=True, p=None))\n",
    "\n",
    "        \n",
    "     #Determining if incoming row from test dataset is to be placed in right node right leaf\n",
    "        if(features.iloc[i]['RM'] >= splits.iloc[0][2] and features.iloc[i]['RM'] >= splits.iloc[2][2]) :\n",
    "            pred[i] = (np.random.choice(rightSideRightLeaf['highPriced'], size=1, replace=True, p=None))\n",
    "   \n",
    "    return pred;\n",
    "            \n",
    "            \n",
    "            \n",
    "            \n",
    "           \n",
    "\n",
    "            \n",
    "        \n",
    "  "
   ]
  },
  {
   "cell_type": "code",
   "execution_count": 29,
   "metadata": {},
   "outputs": [
    {
     "name": "stdout",
     "output_type": "stream",
     "text": [
      "Confusion Matrix :\n",
      "[[90  5]\n",
      " [ 3  4]]\n",
      "Accuracy of the predictions are: 0.9215686274509803\n",
      "              precision    recall  f1-score   support\n",
      "\n",
      "           0       0.97      0.95      0.96        95\n",
      "           1       0.44      0.57      0.50         7\n",
      "\n",
      "    accuracy                           0.92       102\n",
      "   macro avg       0.71      0.76      0.73       102\n",
      "weighted avg       0.93      0.92      0.93       102\n",
      "\n"
     ]
    }
   ],
   "source": [
    "#Determining the preidctions\n",
    "actualval = pd.Series(bostonData_test['highPriced'],name='Actual')\n",
    "predval = treePredictions(pd.DataFrame(bostonData_test[['RM', 'LSTAT']]))\n",
    "print(\"Confusion Matrix :\")\n",
    "print(confusion_matrix(actualval,predval))\n",
    "print('Accuracy of the predictions are:',accuracy_score(actualval, predval))\n",
    "print(classification_report(actualval, predval))\n"
   ]
  },
  {
   "cell_type": "markdown",
   "metadata": {},
   "source": [
    "**13. Use sklearn’s DecisionTreeClassiﬁer to recreate the decision tree that is trained on the training data. There may be slight diﬀerences in the predictions but show that 1) the splits are at the same locations as the tree you built and 2) the probabilities for the leaf nodes are also the same. How do the predictions from this classiﬁer compare to both your decision tree as well as the baseline you created in question 11?**"
   ]
  },
  {
   "cell_type": "markdown",
   "metadata": {},
   "source": [
    "Answer : On plotting the decision tree we can see that the decision tree classifier does its initial split at a value of 7.127 for the variable RM, left split at a threshold value of 5.115 on LSTAT and right split at a threshold value of 7.437 on RM same as our decision tree above. Similarly we obtain the probabilities of our leaf nodes same as the probabilities calculated in the previous question (probLeaf method).\n",
    "On determining predictions from the decision tree classifier, I get an accuracy of 97% that is slightly higher as compared to my decision tree created previously and much higher than the base line created in Q11.(Accuracy of 85%). However the precision of the model in correctly classifying the Target Variable as High Priced is seen to be lower than that of the decision tree created in Q12 while the classifier achieves a much higher recall value of 97% for classifiying the outcome variable as Not high price and 100% for correctly classifying the relevant results as high priced.\n",
    "\n",
    "This shows that due to class imabalnce the model is able to correctly classify relevant results as it has a high recall but falters in predicting the values where the Target variable is High Priced as the precision is low."
   ]
  },
  {
   "cell_type": "code",
   "execution_count": 30,
   "metadata": {
    "scrolled": true
   },
   "outputs": [
    {
     "name": "stdout",
     "output_type": "stream",
     "text": [
      "              precision    recall  f1-score   support\n",
      "\n",
      "           0       1.00      0.97      0.98        98\n",
      "           1       0.57      1.00      0.73         4\n",
      "\n",
      "    accuracy                           0.97       102\n",
      "   macro avg       0.79      0.98      0.86       102\n",
      "weighted avg       0.98      0.97      0.97       102\n",
      "\n",
      "probability of no class in left node left leaf is  0.7777777777777778\n",
      "probability of yes class in left node right leaf is  0.2222222222222222\n",
      "\n",
      "probability of no class in left node right leaf is  0.9909365558912386\n",
      "probability of yes class in left node right leaf is  0.00906344410876133\n",
      "\n",
      "probability of no class in right node left leaf is  0.65\n",
      "probability of yes class in right node left leaf is  0.35\n",
      "\n",
      "probability of no class in right node right leaf is  0.038461538461538464\n",
      "probability of yes class in right node right leaf is  0.9615384615384616\n",
      "\n"
     ]
    },
    {
     "data": {
      "image/png": "[encoded data removed]",
      "text/plain": [
       "<Figure size 432x288 with 1 Axes>"
      ]
     },
     "metadata": {
      "needs_background": "light"
     },
     "output_type": "display_data"
    }
   ],
   "source": [
    "from sklearn.tree import DecisionTreeClassifier\n",
    "#Creating our decision tree with 4 leaf nodes as the previous question\n",
    "clf = DecisionTreeClassifier(random_state=0,criterion=\"entropy\",splitter='best',max_depth=3,max_leaf_nodes=4)\n",
    "predict = np.array(bostonData_train[['RM','LSTAT']])\n",
    "output = np.array(bostonData_train[['highPriced']])\n",
    "#Fitting our model taking LSTAT and RM as our predictors\n",
    "model = clf.fit(predict,output)\n",
    "plot=tree.plot_tree(model)\n",
    "\n",
    "\n",
    "\n",
    "\n",
    "\n",
    "#Determining predictions on the model \n",
    "prediction= model.predict(bostonData_test[['RM','LSTAT']])  \n",
    "print(classification_report(prediction, bostonData_test. iloc[:,-1]))\n",
    "\n",
    "\n",
    "#get the leaf for each training sample\n",
    "leaves_index = clf.apply(bostonData_train[['RM','LSTAT']]) \n",
    "\n",
    "#using Counter to find the number of elements in sample on each leaf\n",
    "count = Counter( leaves_index )\n",
    "\n",
    "\n",
    "\n",
    "leaf1 = list(count.values())[2]\n",
    "leaf1_val = clf.tree_.value[5][0]\n",
    "print(\"probability of no class in left node left leaf is \",leaf1_val[0]/leaf1)\n",
    "print(\"probability of yes class in left node left leaf is \",leaf1_val[1]/leaf1)\n",
    "print(\"\")\n",
    "#leaf 2\n",
    "leaf2 = list(count.values())[0]\n",
    "leaf2_val = clf.tree_.value[6][0]\n",
    "print(\"probability of no class in left node right leaf is \",leaf2_val[0]/leaf2)\n",
    "print(\"probability of yes class in left node right leaf is \",leaf2_val[1]/leaf2)\n",
    "print(\"\")\n",
    "#leaf 3\n",
    "leaf3 = list(count.values())[1]\n",
    "leaf3_val = clf.tree_.value[3][0]\n",
    "print(\"probability of no class in right node left leaf is \",leaf3_val[0]/leaf3)\n",
    "print(\"probability of yes class in right node left leaf is \",leaf3_val[1]/leaf3)\n",
    "print(\"\")\n",
    "#leaf 4\n",
    "leaf4 = list(count.values())[3]\n",
    "leaf4_val = clf.tree_.value[4][0]\n",
    "print(\"probability of no class in right node right leaf is \",leaf4_val[0]/leaf4)\n",
    "print(\"probability of yes class in right node right leaf is \",leaf4_val[1]/leaf4)\n",
    "print(\"\")\n"
   ]
  },
  {
   "cell_type": "markdown",
   "metadata": {},
   "source": [
    "**14. Use sklearn’s BaggingClassiﬁer to create a bagging classiﬁer whose base is a DecisionTreeClassiﬁer with 2 levels and entropy as the split criterion. Train it on your training dataset and make predictions for your test dataset. How does this bagging classiﬁer perform compared to the decision tree you created in question 13?**"
   ]
  },
  {
   "cell_type": "markdown",
   "metadata": {},
   "source": [
    "Answer : On creating the bagging classifier using a DecisionTreeClassifier as our base, we get an accuracy of 97%,similar to our model created without the bagging classifier. Due to the high class imbalance the model falters in classfying the target variable as HighPriced which we can see as the precision of the model is still 57%. However the model still accurately classifies the revlevant highPriced values as seen since the model has a high recall.(97% for classifying the target variable as Yes and 100% for classifying the target variable as No)."
   ]
  },
  {
   "cell_type": "code",
   "execution_count": 31,
   "metadata": {},
   "outputs": [
    {
     "name": "stdout",
     "output_type": "stream",
     "text": [
      "              precision    recall  f1-score   support\n",
      "\n",
      "           0       1.00      0.97      0.98        98\n",
      "           1       0.57      1.00      0.73         4\n",
      "\n",
      "    accuracy                           0.97       102\n",
      "   macro avg       0.79      0.98      0.86       102\n",
      "weighted avg       0.98      0.97      0.97       102\n",
      "\n"
     ]
    }
   ],
   "source": [
    "clf2 = DecisionTreeClassifier(criterion = 'entropy', max_depth = 2) \n",
    "bagging = BaggingClassifier(base_estimator = clf2) \n",
    "bagging.fit(bostonData_train[['RM','LSTAT']],bostonData_train.iloc[:,-1]) \n",
    "prediction_bagging= bagging.predict(bostonData_test[['RM','LSTAT']])\n",
    "print(classification_report(prediction_bagging, bostonData_test. iloc[:,-1]))"
   ]
  },
  {
   "cell_type": "markdown",
   "metadata": {},
   "source": [
    "**15. Use sklearn’s RandomForestClassiﬁer to create a random forest classiﬁer whose base is a decision tree with 2 levels and entropy as the split criterion. Train it on your training dataset and make predictions for your test dataset. How does this random forest classiﬁer perform compared to the classiﬁers you created in questions 13 and 14?**"
   ]
  },
  {
   "cell_type": "markdown",
   "metadata": {},
   "source": [
    "Answer : On creating a RandomForestClassifier with the Decision tree as our base , the model has the same accuracy as we have seen in question 13 and 14 (97%) with same precision and recall values as in Q13 and 14. "
   ]
  },
  {
   "cell_type": "code",
   "execution_count": 32,
   "metadata": {},
   "outputs": [
    {
     "name": "stdout",
     "output_type": "stream",
     "text": [
      "              precision    recall  f1-score   support\n",
      "\n",
      "           0       0.97      0.95      0.96        97\n",
      "           1       0.29      0.40      0.33         5\n",
      "\n",
      "    accuracy                           0.92       102\n",
      "   macro avg       0.63      0.67      0.65       102\n",
      "weighted avg       0.93      0.92      0.93       102\n",
      "\n"
     ]
    }
   ],
   "source": [
    "clf3 = RandomForestClassifier(n_estimators = 1, criterion = 'entropy', max_depth = 2) \n",
    "clf3.fit(bostonData_train[['RM','LSTAT']],bostonData_train.iloc[:,-1])\n",
    "prediction_rf = clf3.predict(bostonData_test[['RM','LSTAT']]) \n",
    "print(classification_report(prediction_rf, bostonData_test.iloc [:,-1]))"
   ]
  }
 ],
 "metadata": {
  "kernelspec": {
   "display_name": "Python 3",
   "language": "python",
   "name": "python3"
  },
  "language_info": {
   "codemirror_mode": {
    "name": "ipython",
    "version": 3
   },
   "file_extension": ".py",
   "mimetype": "text/x-python",
   "name": "python",
   "nbconvert_exporter": "python",
   "pygments_lexer": "ipython3",
   "version": "3.7.4"
  }
 },
 "nbformat": 4,
 "nbformat_minor": 2
}
